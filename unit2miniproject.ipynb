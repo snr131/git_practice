{
  "nbformat": 4,
  "nbformat_minor": 0,
  "metadata": {
    "colab": {
      "name": "unit2miniproject.ipynb",
      "provenance": [],
      "collapsed_sections": [],
      "authorship_tag": "ABX9TyMlATJjLBJN/86Ldwi9ok6q",
      "include_colab_link": true
    },
    "kernelspec": {
      "name": "python3",
      "display_name": "Python 3"
    }
  },
  "cells": [
    {
      "cell_type": "markdown",
      "metadata": {
        "id": "view-in-github",
        "colab_type": "text"
      },
      "source": [
        "<a href=\"https://colab.research.google.com/github/snr131/git_practice/blob/master/unit2miniproject.ipynb\" target=\"_parent\"><img src=\"https://colab.research.google.com/assets/colab-badge.svg\" alt=\"Open In Colab\"/></a>"
      ]
    },
    {
      "cell_type": "code",
      "metadata": {
        "colab": {
          "base_uri": "https://localhost:8080/"
        },
        "id": "KH954CT3iBI8",
        "outputId": "981f147b-460c-48b2-fbd0-61c1dde3a30f"
      },
      "source": [
        "enter_num = int(input(\"Enter a number: \"))\r\n",
        "\"\"\"This conditional will determine if the input number is even or odd.\"\"\"\r\n",
        "if enter_num % 2 == 0:\r\n",
        "  print(\"Your selected number is even.\")\r\n",
        "if enter_num % 4 == 0:\r\n",
        "  print(\"Your number is also divisible by 4.\")\r\n",
        "else:\r\n",
        "  print(\"Your selected number is odd.\")"
      ],
      "execution_count": 9,
      "outputs": [
        {
          "output_type": "stream",
          "text": [
            "Enter a number: 16\n",
            "Your selected number is even.\n",
            "Your number is also divisible by 4.\n"
          ],
          "name": "stdout"
        }
      ]
    },
    {
      "cell_type": "code",
      "metadata": {
        "colab": {
          "base_uri": "https://localhost:8080/"
        },
        "id": "5viYKovUjSyt",
        "outputId": "1ef6cb1d-fc9c-40f8-e476-2683ee73d5fa"
      },
      "source": [
        "num = int(input(\"Enter a number to divide: \"))\r\n",
        "check = int(input(\"Enter a number to divide by:\"))\r\n",
        "remainder = num % check\r\n",
        "if remainder == 0:\r\n",
        "  print(str(num) + \" is divisible by \" + str(check))\r\n",
        "if remainder != 0:\r\n",
        "  print(str(num) + \" divided by \" + str(check) + \" results in a remainder of \" + str(remainder))\r\n"
      ],
      "execution_count": 13,
      "outputs": [
        {
          "output_type": "stream",
          "text": [
            "Enter a number to divide: 100\n",
            "Enter a number to divide by:7\n",
            "100 divided by 7 results in a remainder of 2\n"
          ],
          "name": "stdout"
        }
      ]
    }
  ]
}