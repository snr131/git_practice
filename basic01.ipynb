{
  "nbformat": 4,
  "nbformat_minor": 0,
  "metadata": {
    "colab": {
      "name": "basic01.ipynb",
      "provenance": [],
      "collapsed_sections": [],
      "authorship_tag": "ABX9TyOo7vab1Ee58sEN/AQF93UF",
      "include_colab_link": true
    },
    "kernelspec": {
      "name": "python3",
      "display_name": "Python 3"
    }
  },
  "cells": [
    {
      "cell_type": "markdown",
      "metadata": {
        "id": "view-in-github",
        "colab_type": "text"
      },
      "source": [
        "<a href=\"https://colab.research.google.com/github/snr131/git_practice/blob/master/basic01.ipynb\" target=\"_parent\"><img src=\"https://colab.research.google.com/assets/colab-badge.svg\" alt=\"Open In Colab\"/></a>"
      ]
    },
    {
      "cell_type": "markdown",
      "metadata": {
        "id": "-3a4ZQv4MOjA"
      },
      "source": [
        "Practice creating variables"
      ]
    },
    {
      "cell_type": "code",
      "metadata": {
        "id": "PByTJDtSLv8G"
      },
      "source": [
        "first_name = 'Sarah'\r\n",
        "firstName = \"Sarah\"\r\n",
        "FirstName = 'Sarah'\r\n",
        "FIRSTNAME = 'Sarah'"
      ],
      "execution_count": 1,
      "outputs": []
    },
    {
      "cell_type": "code",
      "metadata": {
        "colab": {
          "base_uri": "https://localhost:8080/"
        },
        "id": "GSdBY4uHNBKc",
        "outputId": "e69b0047-ae1f-408f-dd3e-94672803512a"
      },
      "source": [
        "print(first_name)"
      ],
      "execution_count": 2,
      "outputs": [
        {
          "output_type": "stream",
          "text": [
            "Sarah\n"
          ],
          "name": "stdout"
        }
      ]
    },
    {
      "cell_type": "code",
      "metadata": {
        "id": "MZVuEo1WMkCP"
      },
      "source": [
        "last_name = \"May\"\r\n",
        "lastName = \"Rehman\"\r\n",
        "LastName = \"Smith\"\r\n",
        "\r\n"
      ],
      "execution_count": 6,
      "outputs": []
    },
    {
      "cell_type": "code",
      "metadata": {
        "colab": {
          "base_uri": "https://localhost:8080/"
        },
        "id": "sRLZX6eON_77",
        "outputId": "6b8e6e26-c16e-494f-9d8e-b1979823415e"
      },
      "source": [
        "import math\r\n",
        "print(math.pi)"
      ],
      "execution_count": 8,
      "outputs": [
        {
          "output_type": "stream",
          "text": [
            "3.141592653589793\n"
          ],
          "name": "stdout"
        }
      ]
    },
    {
      "cell_type": "markdown",
      "metadata": {
        "id": "rIYyYwQpZmM7"
      },
      "source": [
        "10 lists"
      ]
    },
    {
      "cell_type": "code",
      "metadata": {
        "id": "GnixZStmZvaK"
      },
      "source": [
        "red_fruit = [\"apple\", \"strawberry\", \"cherry\"]\r\n",
        "green_vegetables = [\"green pepper\", \"celery\"]\r\n",
        "farm_animals = ['pigs', 'cows', 'chickens']\r\n",
        "shapes = ['triangle', 'circle', 'rectangle']\r\n",
        "colors = ['red', 'orange', 'yellow', 'green']\r\n",
        "states = ['Texas', 'New York']\r\n",
        "trees = ['maple', 'oak']\r\n",
        "even_ints = [2, 4, 6, 8]\r\n",
        "odd_ints = [3, 5, 7]\r\n",
        "months = ['January', 'February']"
      ],
      "execution_count": null,
      "outputs": []
    },
    {
      "cell_type": "markdown",
      "metadata": {
        "id": "XL3ASRFCZqNq"
      },
      "source": [
        "10 bools"
      ]
    },
    {
      "cell_type": "code",
      "metadata": {
        "id": "7ZGSowQlbCiz"
      },
      "source": [
        "not_true = not True\r\n",
        "true = True\r\n",
        "false = False\r\n",
        "not_false = not False\r\n",
        "not_true2 = 2 + 5 == 11\r\n",
        "true2 = 2 * 5 == 10\r\n",
        "true3 = True or False\r\n",
        "true4 = True and True\r\n",
        "false2 = True and False\r\n",
        "false3 = 5 != 5\r\n"
      ],
      "execution_count": null,
      "outputs": []
    },
    {
      "cell_type": "markdown",
      "metadata": {
        "id": "49Zh3qcFZri_"
      },
      "source": [
        "10 floats"
      ]
    },
    {
      "cell_type": "code",
      "metadata": {
        "id": "UIIHqNKbiL6T"
      },
      "source": [
        "flt1 = 1.1\r\n",
        "flt2 = 1.11\r\n",
        "flt3 = 1.111\r\n",
        "flt4 = 1.123\r\n",
        "flt5 = 1.5\r\n",
        "flt6 = 1.6\r\n",
        "flt7 = 7.0\r\n",
        "flt8 = 8.8\r\n",
        "flt9 = 9.001\r\n",
        "flt10 = 10.10"
      ],
      "execution_count": null,
      "outputs": []
    },
    {
      "cell_type": "markdown",
      "metadata": {
        "id": "np9_F6Qrjblg"
      },
      "source": [
        "3 dictionaries"
      ]
    },
    {
      "cell_type": "code",
      "metadata": {
        "colab": {
          "base_uri": "https://localhost:8080/"
        },
        "id": "4I22GtZKjegm",
        "outputId": "de400dd9-7655-4d96-ec60-0679e64a500c"
      },
      "source": [
        "ten_foods = {\"sandwiches\": [\"chicken salad\", \"grilled cheese\", \"ham\"], \"fruit\": [\"grapes\", \"mangos\"], \"herb\": \"basil\", \"condiment\": \"ketchup\"}\r\n",
        "ten_people = {\"a_name\": \"Ashley\", \"b_name\": \"Ben\", \"c_name\": \"Chris\", \"d_name\": \"Dennis\", \"e_name\": \"Eric\", \"f_name\": \"Frank\", \"g_name\": \"Gary\", \"h_name\": \"Henry\", \"i_name\": \"Ivan\", \"j_name\": \"Jeremy\"}\r\n",
        "# I don't know sports players, so I am creating a dictionary of seasonal sports instead.\r\n",
        "five_sports = {\"winter\": \"hockey\", \"fall\": \"football\", \"spring\": [\"basketball\", \"tennis\"], \"summer\": \"swimming\"}\r\n",
        "print(ten_foods)\r\n",
        "print(ten_people)\r\n",
        "print(five_sports)"
      ],
      "execution_count": 17,
      "outputs": [
        {
          "output_type": "stream",
          "text": [
            "{'sandwiches': ['chicken salad', 'grilled cheese', 'ham'], 'fruit': ['grapes', 'mangos'], 'herb': 'basil', 'condiment': 'ketchup'}\n",
            "{'a_name': 'Ashley', 'b_name': 'Ben', 'c_name': 'Chris', 'd_name': 'Dennis', 'e_name': 'Eric', 'f_name': 'Frank', 'g_name': 'Gary', 'h_name': 'Henry', 'i_name': 'Ivan', 'j_name': 'Jeremy'}\n",
            "{'winter': 'hockey', 'fall': 'football', 'spring': ['basketball', 'tennis'], 'summer': 'swimming'}\n"
          ],
          "name": "stdout"
        }
      ]
    }
  ]
}