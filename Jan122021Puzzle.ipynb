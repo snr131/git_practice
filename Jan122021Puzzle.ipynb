{
  "nbformat": 4,
  "nbformat_minor": 0,
  "metadata": {
    "colab": {
      "name": "Jan122021Puzzle.ipynb",
      "provenance": [],
      "authorship_tag": "ABX9TyOgfTbKRCqu+PoJcuyzLzLy",
      "include_colab_link": true
    },
    "kernelspec": {
      "name": "python3",
      "display_name": "Python 3"
    }
  },
  "cells": [
    {
      "cell_type": "markdown",
      "metadata": {
        "id": "view-in-github",
        "colab_type": "text"
      },
      "source": [
        "<a href=\"https://colab.research.google.com/github/snr131/git_practice/blob/master/Jan122021Puzzle.ipynb\" target=\"_parent\"><img src=\"https://colab.research.google.com/assets/colab-badge.svg\" alt=\"Open In Colab\"/></a>"
      ]
    },
    {
      "cell_type": "markdown",
      "metadata": {
        "id": "hD05r-Hi6JK3"
      },
      "source": [
        "Coding Puzzle #1\r\n",
        "\r\n",
        "Sum of integers\r\n",
        "\r\n",
        "Write a function which takes one parameter e.g. ‘num’ as input and returns the sum of the integers from zero to the input parameter.\r\n",
        "\r\n",
        "The function should return 0 if a non-integer is passed in with a message stating ‘wrong input...BYE!’\r\n",
        "\r\n",
        "Note.\r\n",
        "Write the final script in a ”.py” using VSCode and submit the file itself!!\r\n"
      ]
    },
    {
      "cell_type": "code",
      "metadata": {
        "id": "7abRYNwY6DO4"
      },
      "source": [
        "\r\n",
        "def function(num):\r\n",
        "  result = [*range(0,num)]\r\n",
        "  sum = 0\r\n",
        "  #print(result)\r\n",
        "  for i in range(0, len(result)):\r\n",
        "    sum = sum + result[i]\r\n",
        "    if type(num) != int:\r\n",
        "      return 0\r\n",
        "      print('wrong input... BYE!')\r\n",
        "  print(sum)\r\n",
        "  \r\n",
        "\r\n"
      ],
      "execution_count": 45,
      "outputs": []
    },
    {
      "cell_type": "code",
      "metadata": {
        "colab": {
          "base_uri": "https://localhost:8080/"
        },
        "id": "BEk_eA6l63N6",
        "outputId": "627060f1-cda3-4137-be34-aa452bc2a62a"
      },
      "source": [
        "function(4)"
      ],
      "execution_count": 46,
      "outputs": [
        {
          "output_type": "stream",
          "text": [
            "6\n"
          ],
          "name": "stdout"
        }
      ]
    }
  ]
}