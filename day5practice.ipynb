{
  "nbformat": 4,
  "nbformat_minor": 0,
  "metadata": {
    "colab": {
      "name": "day5practice.ipynb",
      "provenance": [],
      "authorship_tag": "ABX9TyOiwypBUbckzYMql8fXYyHm",
      "include_colab_link": true
    },
    "kernelspec": {
      "name": "python3",
      "display_name": "Python 3"
    }
  },
  "cells": [
    {
      "cell_type": "markdown",
      "metadata": {
        "id": "view-in-github",
        "colab_type": "text"
      },
      "source": [
        "<a href=\"https://colab.research.google.com/github/snr131/git_practice/blob/master/day5practice.ipynb\" target=\"_parent\"><img src=\"https://colab.research.google.com/assets/colab-badge.svg\" alt=\"Open In Colab\"/></a>"
      ]
    },
    {
      "cell_type": "code",
      "metadata": {
        "id": "S4KTY_ZEXylG"
      },
      "source": [
        "family_members = ['Sarah', 'Scott', 'Kaia', 'Finley', 'Gulzar', 'Diane', 'Jill', 'David', 'Noah', 'Ari', 'Alyssa', 'Louis', 'Zoe', 'Habiba', 'Jalal', 'Aziz', 'Noorallah', 'Nazlin', 'Shazia', 'Tahseen']"
      ],
      "execution_count": 7,
      "outputs": []
    },
    {
      "cell_type": "code",
      "metadata": {
        "colab": {
          "base_uri": "https://localhost:8080/"
        },
        "id": "yfV9mfimwb64",
        "outputId": "a8c33f81-4682-4b3b-fd68-9b3d91710991"
      },
      "source": [
        "print(family_members[0:2])\r\n",
        "print(family_members[:2])\r\n",
        "print(family_members[0:-2])\r\n",
        "print(family_members[5:])\r\n",
        "print(family_members[5:7])\r\n",
        "print(family_members[0:2])\r\n",
        "print(family_members[0:10:2])\r\n",
        "print(family_members[0:10:4])\r\n",
        "print(family_members[:10:4])\r\n",
        "print(family_members[1:9:2])"
      ],
      "execution_count": 65,
      "outputs": [
        {
          "output_type": "stream",
          "text": [
            "['Sarah', 'Scott']\n",
            "['Sarah', 'Scott']\n",
            "['Sarah', 'Scott', 'Kaia', 'Finley', 'Gulzar', 'Diane', 'Jill', 'David', 'Noah', 'Ari', 'Alyssa', 'Louis', 'Zoe', 'Habiba', 'Jalal', 'Aziz', 'Noorallah', 'Nazlin']\n",
            "['Diane', 'Jill', 'David', 'Noah', 'Ari', 'Alyssa', 'Louis', 'Zoe', 'Habiba', 'Jalal', 'Aziz', 'Noorallah', 'Nazlin', 'Shazia', 'Tahseen']\n",
            "['Diane', 'Jill']\n",
            "['Sarah', 'Scott']\n",
            "['Sarah', 'Kaia', 'Gulzar', 'Jill', 'Noah']\n",
            "['Sarah', 'Gulzar', 'Noah']\n",
            "['Sarah', 'Gulzar', 'Noah']\n",
            "['Scott', 'Finley', 'Diane', 'David']\n"
          ],
          "name": "stdout"
        }
      ]
    },
    {
      "cell_type": "code",
      "metadata": {
        "colab": {
          "base_uri": "https://localhost:8080/"
        },
        "id": "powTZN7nYa4H",
        "outputId": "86f4ee17-ec70-4775-85d3-67e71f8e4abc"
      },
      "source": [
        "for member in family_members:\r\n",
        "  print(\"Happy New Year, %s!\" % (member))"
      ],
      "execution_count": 8,
      "outputs": [
        {
          "output_type": "stream",
          "text": [
            "Happy New Year, Sarah!\n",
            "Happy New Year, Scott!\n",
            "Happy New Year, Kaia!\n",
            "Happy New Year, Finley!\n",
            "Happy New Year, Gulzar!\n",
            "Happy New Year, Diane!\n",
            "Happy New Year, Jill!\n",
            "Happy New Year, David!\n",
            "Happy New Year, Noah!\n",
            "Happy New Year, Ari!\n",
            "Happy New Year, Alyssa!\n",
            "Happy New Year, Louis!\n",
            "Happy New Year, Zoe!\n",
            "Happy New Year, Habiba!\n",
            "Happy New Year, Jalal!\n",
            "Happy New Year, Aziz!\n",
            "Happy New Year, Noorallah!\n",
            "Happy New Year, Nazlin!\n",
            "Happy New Year, Shazia!\n",
            "Happy New Year, Tahseen!\n"
          ],
          "name": "stdout"
        }
      ]
    },
    {
      "cell_type": "code",
      "metadata": {
        "colab": {
          "base_uri": "https://localhost:8080/"
        },
        "id": "BZwbxXz6a-VX",
        "outputId": "9a5d004e-d1ca-4b16-bf93-1f3e1bd2fa9b"
      },
      "source": [
        "for num in range(1, 10):\r\n",
        "  print(num)"
      ],
      "execution_count": 9,
      "outputs": [
        {
          "output_type": "stream",
          "text": [
            "1\n",
            "2\n",
            "3\n",
            "4\n",
            "5\n",
            "6\n",
            "7\n",
            "8\n",
            "9\n"
          ],
          "name": "stdout"
        }
      ]
    },
    {
      "cell_type": "code",
      "metadata": {
        "colab": {
          "base_uri": "https://localhost:8080/"
        },
        "id": "XWxUfiYae4qZ",
        "outputId": "94e6a1cb-55d3-4219-d085-99db43dceacd"
      },
      "source": [
        "odd_or_even = input(\"Enter a number: \")\r\n",
        "if int(odd_or_even) % 2 == 0:\r\n",
        "  print(\"This is an even number\")\r\n",
        "else:\r\n",
        "  print(\"This is an odd number\")"
      ],
      "execution_count": 24,
      "outputs": [
        {
          "output_type": "stream",
          "text": [
            "Enter a number: 3\n",
            "This is an odd number\n"
          ],
          "name": "stdout"
        }
      ]
    },
    {
      "cell_type": "code",
      "metadata": {
        "colab": {
          "base_uri": "https://localhost:8080/"
        },
        "id": "-pUPdMO-fvin",
        "outputId": "fb786f97-658f-43b0-fa60-6ade72cea7f2"
      },
      "source": [
        "nums_1_to_20 = [*range(1, 26)]\r\n",
        "print(nums_1_to_20)\r\n",
        "for num in nums_1_to_20:\r\n",
        "  if num % 2 != 0:\r\n",
        "    print(num)"
      ],
      "execution_count": 31,
      "outputs": [
        {
          "output_type": "stream",
          "text": [
            "[1, 2, 3, 4, 5, 6, 7, 8, 9, 10, 11, 12, 13, 14, 15, 16, 17, 18, 19, 20, 21, 22, 23, 24, 25]\n",
            "1\n",
            "3\n",
            "5\n",
            "7\n",
            "9\n",
            "11\n",
            "13\n",
            "15\n",
            "17\n",
            "19\n",
            "21\n",
            "23\n",
            "25\n"
          ],
          "name": "stdout"
        }
      ]
    },
    {
      "cell_type": "code",
      "metadata": {
        "colab": {
          "base_uri": "https://localhost:8080/"
        },
        "id": "phq5wiOvglMA",
        "outputId": "45e2bf6e-4154-48c7-cf5a-5adc4a8ba70d"
      },
      "source": [
        "for num in nums_1_to_20:\r\n",
        "  if num / 3 < 1 or num / 5 < 1:\r\n",
        "    print(num)"
      ],
      "execution_count": 40,
      "outputs": [
        {
          "output_type": "stream",
          "text": [
            "1\n",
            "2\n",
            "3\n",
            "4\n"
          ],
          "name": "stdout"
        }
      ]
    },
    {
      "cell_type": "code",
      "metadata": {
        "colab": {
          "base_uri": "https://localhost:8080/"
        },
        "id": "OjKj4pEVjQ_E",
        "outputId": "65294475-3d91-42c4-acc9-8377b620b9e7"
      },
      "source": [
        "n=int(input('enter a number greater than 1. '))\r\n",
        "Match=True\r\n",
        "\r\n",
        "for num in range (2,n):\r\n",
        "    n%num\r\n",
        "    if n%num==0:\r\n",
        "        Match=False\r\n",
        "        \r\n",
        "if Match:\r\n",
        "    print('num is prime.')\r\n",
        "\r\n",
        "else:\r\n",
        "    print('nume is not prime.')\r\n",
        "\r\n"
      ],
      "execution_count": 47,
      "outputs": [
        {
          "output_type": "stream",
          "text": [
            "enter a number greater than 1. 77\n",
            "nume is not prime.\n"
          ],
          "name": "stdout"
        }
      ]
    },
    {
      "cell_type": "code",
      "metadata": {
        "colab": {
          "base_uri": "https://localhost:8080/"
        },
        "id": "N3x1Ig42q0jd",
        "outputId": "9fd94f6c-d2e0-4e60-a6ad-5962e54e47d1"
      },
      "source": [
        "n = int(input('Enter a number greater than 1: '))\r\n",
        "Match = True\r\n",
        "\r\n",
        "for num in range(2, n):\r\n",
        "  if n%num == 0:\r\n",
        "    Match=False\r\n",
        "\r\n",
        "if Match:\r\n",
        "  print('Your selected number is prime.')\r\n",
        "else:\r\n",
        "  print('Your selected number is not prime.')"
      ],
      "execution_count": 52,
      "outputs": [
        {
          "output_type": "stream",
          "text": [
            "Enter a number greater than 1: 5\n",
            "Your selected number is prime.\n"
          ],
          "name": "stdout"
        }
      ]
    },
    {
      "cell_type": "code",
      "metadata": {
        "colab": {
          "base_uri": "https://localhost:8080/"
        },
        "id": "ItTovnGbmDAK",
        "outputId": "77e0376a-e086-4c61-f0c3-0ff40089fe9f"
      },
      "source": [
        "lower = 900\r\n",
        "upper = 1000\r\n",
        "\r\n",
        "print(\"Prime numbers between\", lower, \"and\", upper, \"are:\")\r\n",
        "\r\n",
        "for num in range(lower, upper + 1):\r\n",
        "   # all prime numbers are greater than 1\r\n",
        "   if num > 1:\r\n",
        "       for i in range(2, num):\r\n",
        "           if (num % i) == 0:\r\n",
        "               break\r\n",
        "       else:\r\n",
        "           print(num)"
      ],
      "execution_count": 46,
      "outputs": [
        {
          "output_type": "stream",
          "text": [
            "Prime numbers between 900 and 1000 are:\n",
            "907\n",
            "911\n",
            "919\n",
            "929\n",
            "937\n",
            "941\n",
            "947\n",
            "953\n",
            "967\n",
            "971\n",
            "977\n",
            "983\n",
            "991\n",
            "997\n"
          ],
          "name": "stdout"
        }
      ]
    },
    {
      "cell_type": "code",
      "metadata": {
        "colab": {
          "base_uri": "https://localhost:8080/"
        },
        "id": "K1ru4unSnDUU",
        "outputId": "09df6810-8e76-4bb7-e08a-bb03506a627d"
      },
      "source": [
        "for num in range(2, 101):\r\n",
        "  # for each number in the range between 2 and 100\r\n",
        "    if all(num%i!=0 for i in range(2, num)):\r\n",
        "      # if everything within the parenthesis is True, print the number selected within that range of 2 to 100; within the parenthesis, the selected number modulo not equal to 0, meaning there is a remainder, i being a number in the range 2 through the originally selected number\r\n",
        "       print (num)\r\n"
      ],
      "execution_count": 48,
      "outputs": [
        {
          "output_type": "stream",
          "text": [
            "2\n",
            "3\n",
            "5\n",
            "7\n",
            "11\n",
            "13\n",
            "17\n",
            "19\n",
            "23\n",
            "29\n",
            "31\n",
            "37\n",
            "41\n",
            "43\n",
            "47\n",
            "53\n",
            "59\n",
            "61\n",
            "67\n",
            "71\n",
            "73\n",
            "79\n",
            "83\n",
            "89\n",
            "97\n"
          ],
          "name": "stdout"
        }
      ]
    },
    {
      "cell_type": "code",
      "metadata": {
        "id": "lyujztHnucml"
      },
      "source": [
        ""
      ],
      "execution_count": null,
      "outputs": []
    }
  ]
}