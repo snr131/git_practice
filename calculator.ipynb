{
  "nbformat": 4,
  "nbformat_minor": 0,
  "metadata": {
    "colab": {
      "name": "calculator.ipynb",
      "provenance": [],
      "collapsed_sections": [],
      "authorship_tag": "ABX9TyO8poeG1WCsuhtFn//gO99q",
      "include_colab_link": true
    },
    "kernelspec": {
      "name": "python3",
      "display_name": "Python 3"
    }
  },
  "cells": [
    {
      "cell_type": "markdown",
      "metadata": {
        "id": "view-in-github",
        "colab_type": "text"
      },
      "source": [
        "<a href=\"https://colab.research.google.com/github/snr131/git_practice/blob/master/calculator.ipynb\" target=\"_parent\"><img src=\"https://colab.research.google.com/assets/colab-badge.svg\" alt=\"Open In Colab\"/></a>"
      ]
    },
    {
      "cell_type": "code",
      "metadata": {
        "colab": {
          "base_uri": "https://localhost:8080/"
        },
        "id": "oAwnm8e3Vc5W",
        "outputId": "8ccbbdab-4922-406c-9924-98d8036ea8cb"
      },
      "source": [
        "def calc():\r\n",
        "  # this function is a simple calculator that adds, subtracts, multiply, and divides two input numbers\r\n",
        "  num1 = int(input(\"Enter the first number: \"))\r\n",
        "  num2 = int(input(\"Enter the second number: \"))\r\n",
        "  operator = input(\"Add, subract, multiply, or divide: \")\r\n",
        "  if operator == \"Add\":\r\n",
        "    return num1 + num2\r\n",
        "  elif operator == \"Subtract\":\r\n",
        "    return num1 - num2\r\n",
        "  elif operator == \"Multiply\":\r\n",
        "    return num1 * num2\r\n",
        "  elif operator == \"Divide\":\r\n",
        "    return num1 / num2\r\n",
        "\r\n",
        "\r\n",
        "calc()\r\n"
      ],
      "execution_count": 5,
      "outputs": [
        {
          "output_type": "stream",
          "text": [
            "Enter the first number: 10\n",
            "Enter the second number: 20\n",
            "Add, subract, multiply, or divide: Multiply\n"
          ],
          "name": "stdout"
        },
        {
          "output_type": "execute_result",
          "data": {
            "text/plain": [
              "200"
            ]
          },
          "metadata": {
            "tags": []
          },
          "execution_count": 5
        }
      ]
    },
    {
      "cell_type": "code",
      "metadata": {
        "colab": {
          "base_uri": "https://localhost:8080/"
        },
        "id": "TRvEcfJNYSBX",
        "outputId": "c4440e49-e23c-4df5-aa41-6b90cc693887"
      },
      "source": [
        "def calc():\r\n",
        "  # this function is a simple calculator that adds, subtracts, multiply, and divides two input numbers\r\n",
        "  num1 = int(input(\"Enter the first number: \"))\r\n",
        "  num2 = int(input(\"Enter the second number: \"))\r\n",
        "  operator = input(\"+, -, *, or /: \")\r\n",
        "  if operator == \"+\":\r\n",
        "    print(num1 + num2)\r\n",
        "  elif operator == \"-\":\r\n",
        "    print(num1 - num2)\r\n",
        "  elif operator == \"*\":\r\n",
        "    print(num1 * num2)\r\n",
        "  elif operator == \"/\":\r\n",
        "    print(num1 / num2)\r\n",
        "\r\n",
        "  \r\n",
        "\r\n",
        "\r\n",
        "calc()"
      ],
      "execution_count": 14,
      "outputs": [
        {
          "output_type": "stream",
          "text": [
            "Enter the first number: 10\n",
            "Enter the second number: 1\n",
            "+, -, *, or /: +\n",
            "11\n"
          ],
          "name": "stdout"
        }
      ]
    }
  ]
}